{
 "cells": [
  {
   "cell_type": "code",
   "execution_count": 1,
   "metadata": {},
   "outputs": [],
   "source": [
    "# Analyzing results on NIH datasets\n",
    "\n",
    "# Import necessary packages\n",
    "import numpy as np\n",
    "import pandas as pd \n",
    "import matplotlib.pyplot as plt\n",
    "import os\n",
    "from tqdm import tqdm\n",
    "from balancersV2 import BinaryBalancer\n",
    "import updated_tools\n",
    "import seaborn as sns\n",
    "from sklearn.metrics import roc_auc_score, confusion_matrix"
   ]
  },
  {
   "cell_type": "code",
   "execution_count": 2,
   "metadata": {},
   "outputs": [],
   "source": [
    "# Set relevant variables\n",
    "folder_name = 'reorganized_nih_results'\n",
    "columns = ['0/100 f', '0/100 m', '25/75 f', '25/75 m', '50/50 f', '50/50 m', '75/25 f', '75/25 m', '100/0 f', '100/0 m']\n",
    "models = ['train100%_female_images','train75%_female_images','train50%_female_images','train25%_female_images','train0%_female_images']\n",
    "condition_names = ['Atelectasis','Cardiomegaly','Effusion','Infiltration','Mass',\n",
    "                   'Nodule','Pneumonia','Pneumothorax','Consolidation','Edema',\n",
    "                   'Emphysema','Fibrosis','Pleural_Thickening','Hernia']\n",
    "num_folds = 20\n",
    "fold_list = ['Fold_' + str(k) for k in range(num_folds)]\n",
    "eps = 0.05"
   ]
  },
  {
   "cell_type": "code",
   "execution_count": 3,
   "metadata": {},
   "outputs": [
    {
     "name": "stdout",
     "output_type": "stream",
     "text": [
      "train100%_female_images\n",
      "train75%_female_images\n",
      "train50%_female_images\n",
      "train25%_female_images\n",
      "train0%_female_images\n"
     ]
    }
   ],
   "source": [
    "# Calculate number of fair models and direction of fairness\n",
    "data_list = []\n",
    "for i, model in enumerate(models):\n",
    "    print(model)\n",
    "    favor_m = []\n",
    "    favor_f = []\n",
    "    for condition in condition_names:\n",
    "        folder_path = os.path.join(folder_name, model, condition)\n",
    "        threshold_csv = pd.read_csv(os.path.join(folder_path, 'optimal_thresholds.csv'))\n",
    "        thresholds = threshold_csv['Optimal Threshold'].values\n",
    "        bias_tpr = []\n",
    "        bias_fpr = []\n",
    "        for k in range(num_folds):\n",
    "            t = thresholds[k]\n",
    "            df = pd.read_csv(os.path.join(folder_path, fold_list[k]), index_col=[0])\n",
    "            y = df.y.values\n",
    "            y_hat = (df.y_prob.values >= t)*1\n",
    "            a = df.a.values\n",
    "            balancer = BinaryBalancer(y, y_hat, a, a)\n",
    "            bias_tpr.append(balancer.a_gr_list[1].tpr - balancer.a_gr_list[0].tpr)\n",
    "            bias_fpr.append(balancer.a_gr_list[1].fpr - balancer.a_gr_list[0].fpr)\n",
    "        bias_tpr = np.array(bias_tpr)\n",
    "        bias_fpr = np.array(bias_fpr)\n",
    "        tpr_ind = (np.abs(bias_tpr) >= eps).astype('float')\n",
    "        fpr_ind = (np.abs(bias_fpr) >= eps).astype('float')\n",
    "        ind_1 = tpr_ind + fpr_ind\n",
    "        ind = (ind_1 > 0).astype('float')\n",
    "        gap = ind*bias_tpr - ind*bias_fpr\n",
    "        m_folds = np.sum(gap > 0)\n",
    "        f_folds = np.sum(gap < 0)\n",
    "        favor_m.append(m_folds)\n",
    "        favor_f.append(f_folds)\n",
    "    data_list.append(favor_m)\n",
    "    data_list.append(favor_f)"
   ]
  },
  {
   "cell_type": "code",
   "execution_count": 5,
   "metadata": {},
   "outputs": [],
   "source": [
    "# Generate tables\n",
    "columns = ['0/100 bias f', '0/100 bias m', '25/75 bias f', '25/75 bias m', '50/50 bias f', '50/50 bias m', '75/25 bias f', '75/25 bias m', '100/0 bias f', '100/0 bias m']\n",
    "final_data = pd.DataFrame(np.array(data_list).T, columns = columns, index = condition_names)\n",
    "final_data.to_csv('tables/final_bias_favor_data.csv', index=[0])\n",
    "columns = final_data.columns\n",
    "overall_bias = []\n",
    "for i in range(5):\n",
    "    overall_bias.append(final_data[columns[2*i]]+final_data[columns[((2*i)+1)]])\n",
    "overall_df = pd.DataFrame(list(zip(overall_bias[0], overall_bias[1], overall_bias[2], overall_bias[3], overall_bias[4])), columns = ['0/100', '25/75', '50/50', '75/25', '100/0'], index = final_data.index)\n",
    "overall_df.to_csv('tables/final_overall_bias_data.csv')"
   ]
  }
 ],
 "metadata": {
  "kernelspec": {
   "display_name": "Python 3.10.4 ('fairness_project')",
   "language": "python",
   "name": "python3"
  },
  "language_info": {
   "codemirror_mode": {
    "name": "ipython",
    "version": 3
   },
   "file_extension": ".py",
   "mimetype": "text/x-python",
   "name": "python",
   "nbconvert_exporter": "python",
   "pygments_lexer": "ipython3",
   "version": "3.10.4"
  },
  "orig_nbformat": 4,
  "vscode": {
   "interpreter": {
    "hash": "32ad6245715914d03a8b5beed738b5748673d1a133a5395eb58474bca4b35574"
   }
  }
 },
 "nbformat": 4,
 "nbformat_minor": 2
}
