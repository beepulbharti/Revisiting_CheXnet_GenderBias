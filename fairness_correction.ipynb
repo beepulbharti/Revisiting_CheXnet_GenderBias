{
 "cells": [
  {
   "cell_type": "code",
   "execution_count": 1,
   "metadata": {},
   "outputs": [],
   "source": [
    "# Analyzing results on NIH datasets\n",
    "\n",
    "# Import necessary packages\n",
    "import numpy as np\n",
    "import pandas as pd \n",
    "import matplotlib.pyplot as plt\n",
    "import os\n",
    "from tqdm import tqdm\n",
    "from balancersV2 import BinaryBalancer\n",
    "import updated_tools\n",
    "import seaborn as sns\n",
    "from sklearn.metrics import roc_auc_score, confusion_matrix\n",
    "import random\n",
    "from random import sample\n",
    "random.seed(10)"
   ]
  },
  {
   "cell_type": "code",
   "execution_count": 2,
   "metadata": {},
   "outputs": [],
   "source": [
    "# Counting fairness\n",
    "# Set relevant variables\n",
    "folder_name = 'reorganized_nih_results'\n",
    "column_titles = ['Average Initial TPR', 'Average Initial FPR', 'Average Initial J-stat', 'Average Initial TPR_1', 'Average Initial TPR_0', \n",
    "                 'Average Initial FPR_1', 'Average Initial FPR_0', 'Average Post TPR', 'Average Post FPR', 'Average Post J-stat', \n",
    "                 'Average Post TPR_1', 'Average Post TPR_0', 'Average Post FPR_1', 'Average Post FPR_0']\n",
    "models = ['train100%_female_images','train75%_female_images','train50%_female_images','train25%_female_images','train0%_female_images']\n",
    "condition_names = ['Atelectasis','Cardiomegaly','Effusion','Infiltration','Mass',\n",
    "                   'Nodule','Pneumonia','Pneumothorax','Consolidation','Edema',\n",
    "                   'Emphysema','Fibrosis','Pleural_Thickening','Hernia']\n",
    "num_folds = 20\n",
    "num_list = [i for i in range(num_folds)]\n",
    "fold_list = ['Fold_' + str(k) for k in range(num_folds)]"
   ]
  },
  {
   "cell_type": "code",
   "execution_count": 3,
   "metadata": {},
   "outputs": [
    {
     "name": "stderr",
     "output_type": "stream",
     "text": [
      "0it [00:00, ?it/s]"
     ]
    },
    {
     "name": "stdout",
     "output_type": "stream",
     "text": [
      "train100%_female_images\n"
     ]
    },
    {
     "name": "stderr",
     "output_type": "stream",
     "text": [
      "1it [00:32, 32.39s/it]"
     ]
    },
    {
     "name": "stdout",
     "output_type": "stream",
     "text": [
      "train75%_female_images\n"
     ]
    },
    {
     "name": "stderr",
     "output_type": "stream",
     "text": [
      "2it [01:03, 31.57s/it]"
     ]
    },
    {
     "name": "stdout",
     "output_type": "stream",
     "text": [
      "train50%_female_images\n"
     ]
    },
    {
     "name": "stderr",
     "output_type": "stream",
     "text": [
      "3it [01:33, 30.77s/it]"
     ]
    },
    {
     "name": "stdout",
     "output_type": "stream",
     "text": [
      "train25%_female_images\n"
     ]
    },
    {
     "name": "stderr",
     "output_type": "stream",
     "text": [
      "4it [02:04, 31.05s/it]"
     ]
    },
    {
     "name": "stdout",
     "output_type": "stream",
     "text": [
      "train0%_female_images\n"
     ]
    },
    {
     "name": "stderr",
     "output_type": "stream",
     "text": [
      "5it [02:34, 30.90s/it]\n"
     ]
    }
   ],
   "source": [
    "# See changes in performance after correcting for fairness\n",
    "for i, model in tqdm(enumerate(models)):\n",
    "    print(model)\n",
    "    avg_J_pre = []\n",
    "    avg_tpr_pre = []\n",
    "    avg_fpr_pre = []\n",
    "    avg_tpr_1_pre = []\n",
    "    avg_tpr_0_pre = []\n",
    "    avg_fpr_1_pre = []\n",
    "    avg_fpr_0_pre = []\n",
    "    avg_J_post = []\n",
    "    avg_tpr_post = []\n",
    "    avg_fpr_post = []\n",
    "    avg_tpr_1_post = []\n",
    "    avg_tpr_0_post = []\n",
    "    avg_fpr_1_post = []\n",
    "    avg_fpr_0_post = []\n",
    "    for condition in condition_names:\n",
    "        folder_path = os.path.join(folder_name, model, condition)\n",
    "        threshold_csv = pd.read_csv(os.path.join(folder_path, 'optimal_thresholds.csv'))\n",
    "        thresholds = threshold_csv['Optimal Threshold'].values\n",
    "        J_pre = []\n",
    "        tpr_pre = []\n",
    "        fpr_pre = []\n",
    "        tpr_1_pre = []\n",
    "        tpr_0_pre = []\n",
    "        fpr_1_pre = []\n",
    "        fpr_0_pre = []\n",
    "        J_post = []\n",
    "        tpr_post = []\n",
    "        fpr_post = []\n",
    "        tpr_1_post = []\n",
    "        tpr_0_post = []\n",
    "        fpr_1_post = []\n",
    "        fpr_0_post = []\n",
    "        for k in range(num_folds):\n",
    "\n",
    "            # Load data and initialize balanccer\n",
    "            t = thresholds[k]\n",
    "            df = pd.read_csv(os.path.join(folder_path, fold_list[k]), index_col=[0])\n",
    "            y = df.y.values\n",
    "            y_hat = (df.y_prob.values >= t)*1\n",
    "            a = df.a.values\n",
    "            balancer = BinaryBalancer(y, y_hat, a, a)\n",
    "\n",
    "            # Extract tprs and fprs before correction\n",
    "            tpr_1_pre.append(balancer.a_gr_list[1].tpr)\n",
    "            tpr_0_pre.append(balancer.a_gr_list[0].tpr)\n",
    "            fpr_1_pre.append(balancer.a_gr_list[1].fpr)\n",
    "            fpr_0_pre.append(balancer.a_gr_list[0].fpr)\n",
    "            tpr_pre.append(balancer.overall_rates.tpr)\n",
    "            fpr_pre.append(balancer.overall_rates.fpr)\n",
    "            J_pre.append(balancer.overall_rates.tpr - balancer.overall_rates.fpr)\n",
    "\n",
    "            # Load another dataset to learn parameters for fairness correction\n",
    "            i = sample(num_list[:k] + num_list[k:],1)[0]\n",
    "            df_val = pd.read_csv(os.path.join(folder_path, fold_list[i]), index_col=[0])\n",
    "            y_val = df_val.y.values\n",
    "            y_hat_val = (df_val.y_prob.values >= t)*1\n",
    "            a_val = df_val.a.values\n",
    "            balancer_val = BinaryBalancer(y_val, y_hat_val, a_val, a_val)\n",
    "\n",
    "            # Correct for fairness on validation\n",
    "            balancer_val.adjust(task='fair')\n",
    "\n",
    "            # Evaluate on test\n",
    "            y_fair = balancer_val.predict(y_hat, a)\n",
    "            fair_balancer = BinaryBalancer(y, y_fair, a, a)\n",
    "\n",
    "            # Extract tprs and fprs before correction\n",
    "            tpr_1_post.append(fair_balancer.a_gr_list[1].tpr)\n",
    "            tpr_0_post.append(fair_balancer.a_gr_list[0].tpr)\n",
    "            fpr_1_post.append(fair_balancer.a_gr_list[1].fpr)\n",
    "            fpr_0_post.append(fair_balancer.a_gr_list[0].fpr)\n",
    "            tpr_post.append(fair_balancer.overall_rates.tpr)\n",
    "            fpr_post.append(fair_balancer.overall_rates.fpr)\n",
    "            J_post.append(fair_balancer.overall_rates.tpr - fair_balancer.overall_rates.fpr)\n",
    "\n",
    "        # Average out tprs and fprs\n",
    "        avg_J_pre.append(np.mean(np.array(J_pre)))\n",
    "        avg_tpr_pre.append(np.mean(np.array(tpr_pre)))\n",
    "        avg_fpr_pre.append(np.mean(np.array(fpr_pre)))\n",
    "        avg_tpr_1_pre.append(np.mean(np.array(tpr_1_pre)))\n",
    "        avg_tpr_0_pre.append(np.mean(np.array(tpr_0_pre)))\n",
    "        avg_fpr_1_pre.append(np.mean(np.array(fpr_1_pre)))\n",
    "        avg_fpr_0_pre.append(np.mean(np.array(fpr_0_pre)))\n",
    "        avg_J_post.append(np.mean(np.array(J_post)))\n",
    "        avg_tpr_post.append(np.mean(np.array(tpr_post)))\n",
    "        avg_fpr_post.append(np.mean(np.array(fpr_post)))\n",
    "        avg_tpr_1_post.append(np.mean(np.array(tpr_1_post)))\n",
    "        avg_tpr_0_post.append(np.mean(np.array(tpr_0_post)))\n",
    "        avg_fpr_1_post.append(np.mean(np.array(fpr_1_post)))\n",
    "        avg_fpr_0_post.append(np.mean(np.array(fpr_0_post)))\n",
    "\n",
    "    # Make csv file\n",
    "    df = pd.DataFrame(list(zip(avg_tpr_pre, avg_fpr_pre, avg_J_pre, avg_tpr_1_pre, avg_tpr_0_pre, avg_fpr_1_pre, avg_fpr_0_pre, \n",
    "                      avg_tpr_post, avg_fpr_post, avg_J_post, avg_tpr_1_post, avg_tpr_0_post ,avg_fpr_1_post ,avg_fpr_0_post)), \n",
    "        columns = column_titles, index = condition_names)\n",
    "    df.to_csv(os.path.join('tables', model + '_correction.csv'), index=[0])"
   ]
  }
 ],
 "metadata": {
  "kernelspec": {
   "display_name": "Python 3.10.4 ('fairness_project')",
   "language": "python",
   "name": "python3"
  },
  "language_info": {
   "codemirror_mode": {
    "name": "ipython",
    "version": 3
   },
   "file_extension": ".py",
   "mimetype": "text/x-python",
   "name": "python",
   "nbconvert_exporter": "python",
   "pygments_lexer": "ipython3",
   "version": "3.10.4"
  },
  "orig_nbformat": 4,
  "vscode": {
   "interpreter": {
    "hash": "32ad6245715914d03a8b5beed738b5748673d1a133a5395eb58474bca4b35574"
   }
  }
 },
 "nbformat": 4,
 "nbformat_minor": 2
}
